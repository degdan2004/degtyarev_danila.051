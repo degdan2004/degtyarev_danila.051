{
 "cells": [
  {
   "cell_type": "markdown",
   "id": "675166e5",
   "metadata": {},
   "source": [
    "Блокнот программ Питона"
   ]
  },
  {
   "cell_type": "markdown",
   "id": "426f864e",
   "metadata": {},
   "source": [
    "Обмен значений между переменными"
   ]
  },
  {
   "cell_type": "code",
   "execution_count": 3,
   "id": "80b552a8",
   "metadata": {},
   "outputs": [
    {
     "name": "stdout",
     "output_type": "stream",
     "text": [
      "6 3\n"
     ]
    }
   ],
   "source": [
    "a=3\n",
    "b=6\n",
    "a,b=b,a\n",
    "print(a,b)"
   ]
  },
  {
   "cell_type": "markdown",
   "id": "54ba0c5f",
   "metadata": {},
   "source": [
    "Смена верхнего и нижнего регистра"
   ]
  },
  {
   "cell_type": "code",
   "execution_count": 33,
   "id": "bcfa5109",
   "metadata": {},
   "outputs": [
    {
     "name": "stdout",
     "output_type": "stream",
     "text": [
      "ДОБРОЕ УТРО\n",
      "я устал\n"
     ]
    }
   ],
   "source": [
    "str1 =\"Доброе утро\"\n",
    "str2 =\"я устал\"\n",
    "print(str1.upper())\n",
    "print(str2.lower())"
   ]
  },
  {
   "cell_type": "markdown",
   "id": "b2f5e9b4",
   "metadata": {},
   "source": [
    "Запись числа в обратном порядке\n"
   ]
  },
  {
   "cell_type": "code",
   "execution_count": null,
   "id": "0cc1639a",
   "metadata": {},
   "outputs": [],
   "source": [
    "var_1 = 1567\n",
    "var_1 = str(var_1)[::-1]\n",
    "print(\"Число в обратном порядке:\", var_1)"
   ]
  },
  {
   "cell_type": "code",
   "execution_count": null,
   "id": "c10f5bb7",
   "metadata": {},
   "outputs": [],
   "source": [
    "c=input()\n",
    "if c=='П':\n",
    "    print('*****')\n",
    "    print('*   *')\n",
    "    print('*   *')\n",
    "    print('*   *')"
   ]
  },
  {
   "cell_type": "markdown",
   "id": "0d3ba438",
   "metadata": {},
   "source": [
    "Количество цифр в числе"
   ]
  },
  {
   "cell_type": "code",
   "execution_count": 35,
   "id": "5326a3a9",
   "metadata": {},
   "outputs": [
    {
     "name": "stdout",
     "output_type": "stream",
     "text": [
      "Введите число: 113\n",
      "Количество цифр равно: 3\n"
     ]
    }
   ],
   "source": [
    "var_1 = int(input(\"Введите число: \"))\n",
    "count = 0\n",
    "while var_1 > 0:\n",
    "    count = count + 1\n",
    "    var_1 = var_1 // 10\n",
    "print(\"Количество цифр равно:\", count)"
   ]
  },
  {
   "cell_type": "markdown",
   "id": "2cc5ee99",
   "metadata": {},
   "source": [
    "Ряд чиел Фибоначчи"
   ]
  },
  {
   "cell_type": "code",
   "execution_count": 47,
   "id": "f1a539fa",
   "metadata": {},
   "outputs": [
    {
     "name": "stdout",
     "output_type": "stream",
     "text": [
      "0 1 1 2 3 5 8 13 21 34 55 89 144 233 377 610 987 "
     ]
    }
   ],
   "source": [
    "def fibonacci(limit):   \n",
    "    var_1, var_2 = 0, 1\n",
    "    while var_1 < limit:\n",
    "        yield var_1\n",
    "        var_1, var_2 = var_2, var_1 + var_2\n",
    "for n in fibonacci(1000):\n",
    "    print(n, end=' ')"
   ]
  },
  {
   "cell_type": "markdown",
   "id": "44d27c5a",
   "metadata": {},
   "source": []
  }
 ],
 "metadata": {
  "kernelspec": {
   "display_name": "Python 3 (ipykernel)",
   "language": "python",
   "name": "python3"
  },
  "language_info": {
   "codemirror_mode": {
    "name": "ipython",
    "version": 3
   },
   "file_extension": ".py",
   "mimetype": "text/x-python",
   "name": "python",
   "nbconvert_exporter": "python",
   "pygments_lexer": "ipython3",
   "version": "3.10.7"
  }
 },
 "nbformat": 4,
 "nbformat_minor": 5
}
